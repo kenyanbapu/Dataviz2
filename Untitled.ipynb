{
 "cells": [
  {
   "cell_type": "code",
   "execution_count": 3,
   "metadata": {
    "collapsed": true
   },
   "outputs": [],
   "source": [
    "from flask import (\n",
    "    Flask,\n",
    "    render_template,\n",
    "    jsonify,\n",
    "    request,\n",
    "    redirect)\n",
    "\n",
    "import pandas as pd\n",
    "\n",
    "from datetime import datetime\n"
   ]
  },
  {
   "cell_type": "code",
   "execution_count": 4,
   "metadata": {
    "collapsed": true
   },
   "outputs": [],
   "source": [
    "# start = request.args.get('start', default = 00000000, type = int)\n",
    "# end = request.args.get('end', default = 99999999, type = int)\n",
    "\n",
    "df=pd.read_csv(\"DataSources/traffic_data_clean.csv\")"
   ]
  },
  {
   "cell_type": "code",
   "execution_count": 5,
   "metadata": {},
   "outputs": [
    {
     "data": {
      "text/html": [
       "<div>\n",
       "<style>\n",
       "    .dataframe thead tr:only-child th {\n",
       "        text-align: right;\n",
       "    }\n",
       "\n",
       "    .dataframe thead th {\n",
       "        text-align: left;\n",
       "    }\n",
       "\n",
       "    .dataframe tbody tr th {\n",
       "        vertical-align: top;\n",
       "    }\n",
       "</style>\n",
       "<table border=\"1\" class=\"dataframe\">\n",
       "  <thead>\n",
       "    <tr style=\"text-align: right;\">\n",
       "      <th></th>\n",
       "      <th>Unnamed: 0</th>\n",
       "      <th>Traffic Report ID</th>\n",
       "      <th>Published Date</th>\n",
       "      <th>Issue Reported</th>\n",
       "      <th>Location</th>\n",
       "      <th>Latitude</th>\n",
       "      <th>Longitude</th>\n",
       "      <th>Address</th>\n",
       "      <th>Status</th>\n",
       "      <th>Status Date-Time</th>\n",
       "      <th>Published Date as Integer</th>\n",
       "    </tr>\n",
       "  </thead>\n",
       "  <tbody>\n",
       "    <tr>\n",
       "      <th>0</th>\n",
       "      <td>0</td>\n",
       "      <td>00E263FF6806064C016A643C6587B0D607A6A42D_15187...</td>\n",
       "      <td>02/16/2018 07:25:00 PM +0000</td>\n",
       "      <td>Traffic Hazard</td>\n",
       "      <td>(30.320777,-97.726217)</td>\n",
       "      <td>30.320777</td>\n",
       "      <td>-97.726217</td>\n",
       "      <td>503 Franklin Blvd</td>\n",
       "      <td>ARCHIVED</td>\n",
       "      <td>02/17/2018 01:45:00 AM +0000</td>\n",
       "      <td>20180216</td>\n",
       "    </tr>\n",
       "    <tr>\n",
       "      <th>1</th>\n",
       "      <td>1</td>\n",
       "      <td>0020BF2046BD4C6F803CBF19940A1A4759C0EDE8_15185...</td>\n",
       "      <td>02/14/2018 02:20:00 PM +0000</td>\n",
       "      <td>TRFC HAZD/ DEBRIS</td>\n",
       "      <td>(30.448869,-97.656096)</td>\n",
       "      <td>30.448869</td>\n",
       "      <td>-97.656096</td>\n",
       "      <td>W Pecan St &amp; Central Commerce Dr</td>\n",
       "      <td>ARCHIVED</td>\n",
       "      <td>02/14/2018 08:30:00 PM +0000</td>\n",
       "      <td>20180214</td>\n",
       "    </tr>\n",
       "    <tr>\n",
       "      <th>2</th>\n",
       "      <td>2</td>\n",
       "      <td>066B5BB7A384BED2EDCDC65D0BCAA57C1EE971D0_15083...</td>\n",
       "      <td>10/18/2017 02:28:00 PM +0000</td>\n",
       "      <td>zSTALLED VEHICLE</td>\n",
       "      <td>(30.261230,-97.736767)</td>\n",
       "      <td>30.261230</td>\n",
       "      <td>-97.736767</td>\n",
       "      <td>N Ih 35 Svrd Sb &amp; E Cesar Chavez St</td>\n",
       "      <td>ARCHIVED</td>\n",
       "      <td>NaN</td>\n",
       "      <td>20171018</td>\n",
       "    </tr>\n",
       "    <tr>\n",
       "      <th>3</th>\n",
       "      <td>3</td>\n",
       "      <td>0A362CA04E5D1A1A33B972938C55AC2595D989F9_15083...</td>\n",
       "      <td>10/18/2017 01:41:00 PM +0000</td>\n",
       "      <td>Traffic Impediment</td>\n",
       "      <td>(30.185598,-97.812579)</td>\n",
       "      <td>30.185598</td>\n",
       "      <td>-97.812579</td>\n",
       "      <td>1700-1930 W Dittmar Rd</td>\n",
       "      <td>ARCHIVED</td>\n",
       "      <td>NaN</td>\n",
       "      <td>20171018</td>\n",
       "    </tr>\n",
       "    <tr>\n",
       "      <th>4</th>\n",
       "      <td>4</td>\n",
       "      <td>0CE1D1D8CFA8BDADD7BC865D3E87BBF2FBBC003E_15083...</td>\n",
       "      <td>10/18/2017 02:53:00 PM +0000</td>\n",
       "      <td>COLLISION</td>\n",
       "      <td>(30.285479,-97.812326)</td>\n",
       "      <td>30.285479</td>\n",
       "      <td>-97.812326</td>\n",
       "      <td>4310 Bee Caves Rd</td>\n",
       "      <td>ARCHIVED</td>\n",
       "      <td>NaN</td>\n",
       "      <td>20171018</td>\n",
       "    </tr>\n",
       "  </tbody>\n",
       "</table>\n",
       "</div>"
      ],
      "text/plain": [
       "   Unnamed: 0                                  Traffic Report ID  \\\n",
       "0           0  00E263FF6806064C016A643C6587B0D607A6A42D_15187...   \n",
       "1           1  0020BF2046BD4C6F803CBF19940A1A4759C0EDE8_15185...   \n",
       "2           2  066B5BB7A384BED2EDCDC65D0BCAA57C1EE971D0_15083...   \n",
       "3           3  0A362CA04E5D1A1A33B972938C55AC2595D989F9_15083...   \n",
       "4           4  0CE1D1D8CFA8BDADD7BC865D3E87BBF2FBBC003E_15083...   \n",
       "\n",
       "                 Published Date      Issue Reported                Location  \\\n",
       "0  02/16/2018 07:25:00 PM +0000      Traffic Hazard  (30.320777,-97.726217)   \n",
       "1  02/14/2018 02:20:00 PM +0000   TRFC HAZD/ DEBRIS  (30.448869,-97.656096)   \n",
       "2  10/18/2017 02:28:00 PM +0000    zSTALLED VEHICLE  (30.261230,-97.736767)   \n",
       "3  10/18/2017 01:41:00 PM +0000  Traffic Impediment  (30.185598,-97.812579)   \n",
       "4  10/18/2017 02:53:00 PM +0000           COLLISION  (30.285479,-97.812326)   \n",
       "\n",
       "    Latitude  Longitude                              Address    Status  \\\n",
       "0  30.320777 -97.726217                    503 Franklin Blvd  ARCHIVED   \n",
       "1  30.448869 -97.656096     W Pecan St & Central Commerce Dr  ARCHIVED   \n",
       "2  30.261230 -97.736767  N Ih 35 Svrd Sb & E Cesar Chavez St  ARCHIVED   \n",
       "3  30.185598 -97.812579               1700-1930 W Dittmar Rd  ARCHIVED   \n",
       "4  30.285479 -97.812326                    4310 Bee Caves Rd  ARCHIVED   \n",
       "\n",
       "               Status Date-Time  Published Date as Integer  \n",
       "0  02/17/2018 01:45:00 AM +0000                   20180216  \n",
       "1  02/14/2018 08:30:00 PM +0000                   20180214  \n",
       "2                           NaN                   20171018  \n",
       "3                           NaN                   20171018  \n",
       "4                           NaN                   20171018  "
      ]
     },
     "execution_count": 5,
     "metadata": {},
     "output_type": "execute_result"
    }
   ],
   "source": [
    "df.head()"
   ]
  },
  {
   "cell_type": "code",
   "execution_count": 6,
   "metadata": {
    "collapsed": true
   },
   "outputs": [],
   "source": [
    "top10=df[['Location','Issue Reported']].groupby(['Issue Reported']).count().sort_values('Location',ascending=False)[:10].reset_index().rename(columns={'Location':'Num Incidents'})\n"
   ]
  },
  {
   "cell_type": "code",
   "execution_count": 8,
   "metadata": {},
   "outputs": [
    {
     "data": {
      "text/html": [
       "<div>\n",
       "<style>\n",
       "    .dataframe thead tr:only-child th {\n",
       "        text-align: right;\n",
       "    }\n",
       "\n",
       "    .dataframe thead th {\n",
       "        text-align: left;\n",
       "    }\n",
       "\n",
       "    .dataframe tbody tr th {\n",
       "        vertical-align: top;\n",
       "    }\n",
       "</style>\n",
       "<table border=\"1\" class=\"dataframe\">\n",
       "  <thead>\n",
       "    <tr style=\"text-align: right;\">\n",
       "      <th></th>\n",
       "      <th>Issue Reported</th>\n",
       "      <th>Num Incidents</th>\n",
       "    </tr>\n",
       "  </thead>\n",
       "  <tbody>\n",
       "    <tr>\n",
       "      <th>0</th>\n",
       "      <td>Traffic Hazard</td>\n",
       "      <td>3579</td>\n",
       "    </tr>\n",
       "    <tr>\n",
       "      <th>1</th>\n",
       "      <td>Crash Urgent</td>\n",
       "      <td>2768</td>\n",
       "    </tr>\n",
       "    <tr>\n",
       "      <th>2</th>\n",
       "      <td>Crash Service</td>\n",
       "      <td>1908</td>\n",
       "    </tr>\n",
       "    <tr>\n",
       "      <th>3</th>\n",
       "      <td>Traffic Impediment</td>\n",
       "      <td>931</td>\n",
       "    </tr>\n",
       "    <tr>\n",
       "      <th>4</th>\n",
       "      <td>COLLISION</td>\n",
       "      <td>744</td>\n",
       "    </tr>\n",
       "    <tr>\n",
       "      <th>5</th>\n",
       "      <td>TRFC HAZD/ DEBRIS</td>\n",
       "      <td>650</td>\n",
       "    </tr>\n",
       "    <tr>\n",
       "      <th>6</th>\n",
       "      <td>zSTALLED VEHICLE</td>\n",
       "      <td>470</td>\n",
       "    </tr>\n",
       "    <tr>\n",
       "      <th>7</th>\n",
       "      <td>COLLISION WITH INJURY</td>\n",
       "      <td>365</td>\n",
       "    </tr>\n",
       "    <tr>\n",
       "      <th>8</th>\n",
       "      <td>COLLISN/ LVNG SCN</td>\n",
       "      <td>168</td>\n",
       "    </tr>\n",
       "    <tr>\n",
       "      <th>9</th>\n",
       "      <td>LOOSE LIVESTOCK</td>\n",
       "      <td>163</td>\n",
       "    </tr>\n",
       "  </tbody>\n",
       "</table>\n",
       "</div>"
      ],
      "text/plain": [
       "          Issue Reported  Num Incidents\n",
       "0         Traffic Hazard           3579\n",
       "1           Crash Urgent           2768\n",
       "2          Crash Service           1908\n",
       "3     Traffic Impediment            931\n",
       "4              COLLISION            744\n",
       "5      TRFC HAZD/ DEBRIS            650\n",
       "6       zSTALLED VEHICLE            470\n",
       "7  COLLISION WITH INJURY            365\n",
       "8      COLLISN/ LVNG SCN            168\n",
       "9        LOOSE LIVESTOCK            163"
      ]
     },
     "execution_count": 8,
     "metadata": {},
     "output_type": "execute_result"
    }
   ],
   "source": [
    "top10"
   ]
  },
  {
   "cell_type": "code",
   "execution_count": 13,
   "metadata": {},
   "outputs": [
    {
     "data": {
      "text/plain": [
       "'{\"Issue Reported\":{\"0\":\"Traffic Hazard\",\"1\":\"Crash Urgent\",\"2\":\"Crash Service\",\"3\":\"Traffic Impediment\",\"4\":\"COLLISION\",\"5\":\"TRFC HAZD\\\\/ DEBRIS\",\"6\":\"zSTALLED VEHICLE\",\"7\":\"COLLISION WITH INJURY\",\"8\":\"COLLISN\\\\/ LVNG SCN\",\"9\":\"LOOSE LIVESTOCK\"},\"Num Incidents\":{\"0\":3579,\"1\":2768,\"2\":1908,\"3\":931,\"4\":744,\"5\":650,\"6\":470,\"7\":365,\"8\":168,\"9\":163}}'"
      ]
     },
     "execution_count": 13,
     "metadata": {},
     "output_type": "execute_result"
    }
   ],
   "source": [
    "# df=data[(data['Published Date as Integer']>=int(start)) & (data['Published Date as Integer']<=int(end))]\n",
    "\n",
    "#return top 10 incidents with counts within the date range\n",
    "top10=df[['Location','Issue Reported']].groupby(['Issue Reported']).count().sort_values('Location',ascending=False)[:10].reset_index().rename(columns={'Location':'Num Incidents'})\n",
    "json = top10.reset_index(drop=True).to_json()\n",
    "json"
   ]
  },
  {
   "cell_type": "code",
   "execution_count": null,
   "metadata": {
    "collapsed": true
   },
   "outputs": [],
   "source": []
  }
 ],
 "metadata": {
  "kernelspec": {
   "display_name": "Python 3",
   "language": "python",
   "name": "python3"
  },
  "language_info": {
   "codemirror_mode": {
    "name": "ipython",
    "version": 3
   },
   "file_extension": ".py",
   "mimetype": "text/x-python",
   "name": "python",
   "nbconvert_exporter": "python",
   "pygments_lexer": "ipython3",
   "version": "3.6.2"
  }
 },
 "nbformat": 4,
 "nbformat_minor": 2
}
